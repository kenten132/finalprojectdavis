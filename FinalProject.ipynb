{
 "cells": [
  {
   "cell_type": "markdown",
   "metadata": {},
   "source": [
    "# Final Project: Kickstarter Dataset\n",
    "## Corbin Higgs, Zach Meyer, Jacob Ulman\n",
    "##                              What makes a Kickstarter campaign succeed?"
   ]
  },
  {
   "cell_type": "code",
   "execution_count": 64,
   "metadata": {},
   "outputs": [],
   "source": [
    "import pandas as pd\n",
    "import matplotlib.pyplot as plt\n",
    "import numpy as np\n",
    "from sklearn.model_selection import train_test_split\n",
    "from sklearn.preprocessing import OneHotEncoder\n",
    "from sklearn.preprocessing import LabelEncoder\n",
    "#from sklearn.ensemble import RandomForestRegressor\n",
    "\n",
    "%matplotlib inline"
   ]
  },
  {
   "cell_type": "code",
   "execution_count": 65,
   "metadata": {},
   "outputs": [],
   "source": [
    "df = pd.read_csv(\"data/kickstarter.csv\")\n",
    "#df.head(2)"
   ]
  },
  {
   "cell_type": "code",
   "execution_count": 66,
   "metadata": {},
   "outputs": [],
   "source": [
    "df['deadline'] = pd.to_datetime(df['deadline'])\n",
    "df['launched'] = pd.to_datetime(df['launched'])\n",
    "\n",
    "df['timediffdays'] = (df['deadline'] - df['launched']).dt.days\n",
    "\n",
    "#df.head(2)"
   ]
  },
  {
   "cell_type": "code",
   "execution_count": 67,
   "metadata": {},
   "outputs": [],
   "source": [
    "le = LabelEncoder()\n",
    "df['maincat'] = le.fit_transform(df['main_category'])\n",
    "df['state_encoded'] = le.fit_transform(df['state'])\n",
    "\n",
    "df.head(2)\n",
    "\n",
    "#Clearing out unkown, suspended, and live projects as they are not failed or successful\n",
    "df = df.loc[(df['state_encoded'] != 5)]\n",
    "df = df.loc[(df['state_encoded'] != 4)]\n",
    "df = df.loc[(df['state_encoded'] != 2)]\n",
    "\n",
    "#Re-encoding the states\n",
    "df['state_encoded'] = le.fit_transform(df['state'])\n",
    "\n",
    "#fixing encoding\n",
    "state = []\n",
    "for item, frame in df['state'].iteritems():\n",
    "        if (frame == 'successful'):\n",
    "            state += [1]\n",
    "        else:\n",
    "            state += [0]\n",
    "\n",
    "df['state_encoded'] = state"
   ]
  },
  {
   "cell_type": "code",
   "execution_count": null,
   "metadata": {},
   "outputs": [],
   "source": []
  },
  {
   "cell_type": "code",
   "execution_count": null,
   "metadata": {},
   "outputs": [],
   "source": []
  }
 ],
 "metadata": {
  "kernelspec": {
   "display_name": "Python 3",
   "language": "python",
   "name": "python3"
  },
  "language_info": {
   "codemirror_mode": {
    "name": "ipython",
    "version": 3
   },
   "file_extension": ".py",
   "mimetype": "text/x-python",
   "name": "python",
   "nbconvert_exporter": "python",
   "pygments_lexer": "ipython3",
   "version": "3.7.5rc1"
  }
 },
 "nbformat": 4,
 "nbformat_minor": 2
}
